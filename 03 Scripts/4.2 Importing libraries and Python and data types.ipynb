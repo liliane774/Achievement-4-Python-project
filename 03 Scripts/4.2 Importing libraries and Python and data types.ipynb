{
 "cells": [
  {
   "cell_type": "markdown",
   "id": "18c9d73f-9e40-4123-8f01-cc5985470d02",
   "metadata": {},
   "source": [
    "\n",
    "4.2\n",
    "## Navigating Jupyter\n",
    "## Creating Notebooks in Jupyter\n",
    "\n"
   ]
  },
  {
   "cell_type": "code",
   "execution_count": 82,
   "id": "bebd309f-3e0f-4337-a76d-533efa3e78bf",
   "metadata": {},
   "outputs": [
    {
     "name": "stdout",
     "output_type": "stream",
     "text": [
      "8\n"
     ]
    }
   ],
   "source": [
    "print(2*4)"
   ]
  },
  {
   "cell_type": "code",
   "execution_count": 83,
   "id": "2d50ddeb-a0b2-49d0-864e-c7c506b77d94",
   "metadata": {},
   "outputs": [],
   "source": [
    "# play around with pandas"
   ]
  },
  {
   "cell_type": "code",
   "execution_count": 84,
   "id": "0f068716-21f0-432a-b8ff-69b1aaa9c273",
   "metadata": {},
   "outputs": [],
   "source": [
    "import pandas as pd\n",
    "\n",
    "data=pd.read_csv(\"datas/nba.csv\") \n",
    "  \n",
    "# creating series \n",
    "# series = data[\"Team\"] \n",
    "  \n",
    "# returning top n rows \n",
    "head = data.head(n = 2) \n",
    "tail = data.tail(n=2) "
   ]
  },
  {
   "cell_type": "code",
   "execution_count": 85,
   "id": "e87a19cc-a613-4895-a05c-394357005c91",
   "metadata": {},
   "outputs": [
    {
     "data": {
      "text/html": [
       "<div>\n",
       "<style scoped>\n",
       "    .dataframe tbody tr th:only-of-type {\n",
       "        vertical-align: middle;\n",
       "    }\n",
       "\n",
       "    .dataframe tbody tr th {\n",
       "        vertical-align: top;\n",
       "    }\n",
       "\n",
       "    .dataframe thead th {\n",
       "        text-align: right;\n",
       "    }\n",
       "</style>\n",
       "<table border=\"1\" class=\"dataframe\">\n",
       "  <thead>\n",
       "    <tr style=\"text-align: right;\">\n",
       "      <th></th>\n",
       "      <th>Name</th>\n",
       "      <th>Team</th>\n",
       "      <th>Number</th>\n",
       "      <th>Position</th>\n",
       "      <th>Age</th>\n",
       "      <th>Height</th>\n",
       "      <th>Weight</th>\n",
       "      <th>College</th>\n",
       "      <th>Salary</th>\n",
       "    </tr>\n",
       "  </thead>\n",
       "  <tbody>\n",
       "    <tr>\n",
       "      <th>0</th>\n",
       "      <td>Avery Bradley</td>\n",
       "      <td>Boston Celtics</td>\n",
       "      <td>0.0</td>\n",
       "      <td>PG</td>\n",
       "      <td>25.0</td>\n",
       "      <td>6-2</td>\n",
       "      <td>180.0</td>\n",
       "      <td>Texas</td>\n",
       "      <td>7730337.0</td>\n",
       "    </tr>\n",
       "    <tr>\n",
       "      <th>1</th>\n",
       "      <td>Jae Crowder</td>\n",
       "      <td>Boston Celtics</td>\n",
       "      <td>99.0</td>\n",
       "      <td>SF</td>\n",
       "      <td>25.0</td>\n",
       "      <td>6-6</td>\n",
       "      <td>235.0</td>\n",
       "      <td>Marquette</td>\n",
       "      <td>6796117.0</td>\n",
       "    </tr>\n",
       "  </tbody>\n",
       "</table>\n",
       "</div>"
      ],
      "text/plain": [
       "            Name            Team  Number Position   Age Height  Weight  \\\n",
       "0  Avery Bradley  Boston Celtics     0.0       PG  25.0    6-2   180.0   \n",
       "1    Jae Crowder  Boston Celtics    99.0       SF  25.0    6-6   235.0   \n",
       "\n",
       "     College     Salary  \n",
       "0      Texas  7730337.0  \n",
       "1  Marquette  6796117.0  "
      ]
     },
     "execution_count": 85,
     "metadata": {},
     "output_type": "execute_result"
    }
   ],
   "source": [
    "head"
   ]
  },
  {
   "cell_type": "code",
   "execution_count": 86,
   "id": "5d337aa0-ce5f-4cb3-b275-0ee605679c29",
   "metadata": {},
   "outputs": [
    {
     "data": {
      "text/html": [
       "<div>\n",
       "<style scoped>\n",
       "    .dataframe tbody tr th:only-of-type {\n",
       "        vertical-align: middle;\n",
       "    }\n",
       "\n",
       "    .dataframe tbody tr th {\n",
       "        vertical-align: top;\n",
       "    }\n",
       "\n",
       "    .dataframe thead th {\n",
       "        text-align: right;\n",
       "    }\n",
       "</style>\n",
       "<table border=\"1\" class=\"dataframe\">\n",
       "  <thead>\n",
       "    <tr style=\"text-align: right;\">\n",
       "      <th></th>\n",
       "      <th>Name</th>\n",
       "      <th>Team</th>\n",
       "      <th>Number</th>\n",
       "      <th>Position</th>\n",
       "      <th>Age</th>\n",
       "      <th>Height</th>\n",
       "      <th>Weight</th>\n",
       "      <th>College</th>\n",
       "      <th>Salary</th>\n",
       "    </tr>\n",
       "  </thead>\n",
       "  <tbody>\n",
       "    <tr>\n",
       "      <th>456</th>\n",
       "      <td>Jeff Withey</td>\n",
       "      <td>Utah Jazz</td>\n",
       "      <td>24.0</td>\n",
       "      <td>C</td>\n",
       "      <td>26.0</td>\n",
       "      <td>7-0</td>\n",
       "      <td>231.0</td>\n",
       "      <td>Kansas</td>\n",
       "      <td>947276.0</td>\n",
       "    </tr>\n",
       "    <tr>\n",
       "      <th>457</th>\n",
       "      <td>NaN</td>\n",
       "      <td>NaN</td>\n",
       "      <td>NaN</td>\n",
       "      <td>NaN</td>\n",
       "      <td>NaN</td>\n",
       "      <td>NaN</td>\n",
       "      <td>NaN</td>\n",
       "      <td>NaN</td>\n",
       "      <td>NaN</td>\n",
       "    </tr>\n",
       "  </tbody>\n",
       "</table>\n",
       "</div>"
      ],
      "text/plain": [
       "            Name       Team  Number Position   Age Height  Weight College  \\\n",
       "456  Jeff Withey  Utah Jazz    24.0        C  26.0    7-0   231.0  Kansas   \n",
       "457          NaN        NaN     NaN      NaN   NaN    NaN     NaN     NaN   \n",
       "\n",
       "       Salary  \n",
       "456  947276.0  \n",
       "457       NaN  "
      ]
     },
     "execution_count": 86,
     "metadata": {},
     "output_type": "execute_result"
    }
   ],
   "source": [
    "tail"
   ]
  },
  {
   "cell_type": "markdown",
   "id": "43f11f76-8b41-4420-a171-0bfa3cf09669",
   "metadata": {},
   "source": [
    "## Python Libraries\n",
    "Before using a new library for the first time in jupyter notebook, you need to install it via terminal.\n",
    "e.g. `conda install pandas`\n",
    "\n",
    "## Importing Libraries\n",
    "After installing the required library above, import it into juptyter notebook to use it in codes\n",
    "e.g. `import pandas` or `import pandas as pd`"
   ]
  },
  {
   "cell_type": "markdown",
   "id": "aa35c218-9c63-475a-b1d5-39f1f6c494df",
   "metadata": {},
   "source": [
    "import pandas\n",
    "import os\n",
    "import numpy\n",
    "# import keras\n",
    "\n",
    "print('abc' + \"cdf\")\n",
    "print(2+6)\n",
    "abc=9\n",
    "cdf=8\n",
    "xyx=\"ahgyhjjnjjn\"\n",
    "p=\"rt\"\n",
    "print(abc + cdf)\n",
    "print(xyx + p)\n",
    "\n",
    "m=\"90\" # convert to int\n",
    "num = int(m)\n",
    "n=10\n",
    "print(num + n)\n",
    "Mania=False\n",
    "print(Mania)\n",
    "\n"
   ]
  },
  {
   "cell_type": "code",
   "execution_count": 89,
   "id": "adeda38c-b6fc-4509-9eb5-89140f977a3f",
   "metadata": {},
   "outputs": [
    {
     "name": "stdout",
     "output_type": "stream",
     "text": [
      "<class 'float'>\n",
      "<class 'int'>\n",
      "<class 'str'>\n",
      "<class 'bool'>\n",
      "<class 'int'>\n",
      "<class 'str'>\n",
      "<class 'int'>\n"
     ]
    }
   ],
   "source": [
    "dr=1.56\n",
    "g=9\n",
    "pb=\"789\"\n",
    "b=True\n",
    "print(type(dr))\n",
    "print(type(g))\n",
    "print(type(pb))\n",
    "print(type(b))\n",
    "print(type(666666))\n",
    "print(type(\"666666\"))\n",
    "print(type(int(\"66666\")))"
   ]
  },
  {
   "cell_type": "markdown",
   "id": "77b4b1cf-e0d0-42b6-9c2b-f31292da6117",
   "metadata": {},
   "source": [
    "# Procedures with Data Types\n",
    "procedures are actions you can perform on any data type.\n",
    "e.g adding, subtracting, printing, converting, etc"
   ]
  },
  {
   "cell_type": "code",
   "execution_count": 109,
   "id": "5fadc6f6-da52-4354-b8a5-4fcbd4288c3e",
   "metadata": {},
   "outputs": [
    {
     "name": "stdout",
     "output_type": "stream",
     "text": [
      "Hello,Marley\n"
     ]
    },
    {
     "data": {
      "text/plain": [
       "0"
      ]
     },
     "execution_count": 109,
     "metadata": {},
     "output_type": "execute_result"
    }
   ],
   "source": [
    "a = 'Hello,'\n",
    "b = 'Marley'\n",
    "print(a + b)\n",
    "d=0\n",
    "d"
   ]
  },
  {
   "cell_type": "code",
   "execution_count": 115,
   "id": "623bbc13-e4f1-4c14-a137-a67b89b961b8",
   "metadata": {},
   "outputs": [
    {
     "name": "stdout",
     "output_type": "stream",
     "text": [
      "False\n"
     ]
    }
   ],
   "source": [
    "f=9\n",
    "i=90\n",
    "print(f>=i)"
   ]
  },
  {
   "cell_type": "code",
   "execution_count": null,
   "id": "d5937abd-85da-4c7a-b43f-dff17747ba5d",
   "metadata": {},
   "outputs": [],
   "source": []
  }
 ],
 "metadata": {
  "kernelspec": {
   "display_name": "Python [conda env:base] *",
   "language": "python",
   "name": "conda-base-py"
  },
  "language_info": {
   "codemirror_mode": {
    "name": "ipython",
    "version": 3
   },
   "file_extension": ".py",
   "mimetype": "text/x-python",
   "name": "python",
   "nbconvert_exporter": "python",
   "pygments_lexer": "ipython3",
   "version": "3.12.7"
  }
 },
 "nbformat": 4,
 "nbformat_minor": 5
}
