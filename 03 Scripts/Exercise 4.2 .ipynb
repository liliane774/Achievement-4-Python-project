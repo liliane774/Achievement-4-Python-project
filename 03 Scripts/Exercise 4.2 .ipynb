{
 "cells": [
  {
   "cell_type": "markdown",
   "id": "bff8ee76-8bf2-401a-9a88-9c6527c9b987",
   "metadata": {},
   "source": [
    "Importing Libaries"
   ]
  },
  {
   "cell_type": "code",
   "execution_count": 12,
   "id": "d404e195-79f6-466d-916b-fd845d8ba59d",
   "metadata": {},
   "outputs": [],
   "source": [
    "# Import libraries\n",
    "import pandas as pd \n",
    "import numpy as np\n",
    "import os"
   ]
  },
  {
   "cell_type": "markdown",
   "id": "fcd47ef3-39e6-4848-a9ab-a45f67a3d643",
   "metadata": {},
   "source": [
    "Python Data Type"
   ]
  },
  {
   "cell_type": "code",
   "execution_count": 17,
   "id": "1a6e560d-21e0-47bf-9053-4fc86278f4c2",
   "metadata": {},
   "outputs": [
    {
     "name": "stdout",
     "output_type": "stream",
     "text": [
      "100\n",
      "100\n",
      "100\n"
     ]
    }
   ],
   "source": [
    "print(50 + 50)\n",
    "print(200-100)\n",
    "print(60 + 40)"
   ]
  },
  {
   "cell_type": "code",
   "execution_count": 32,
   "id": "abe2828c-b638-4f23-96f9-ab774fe219af",
   "metadata": {},
   "outputs": [
    {
     "name": "stdout",
     "output_type": "stream",
     "text": [
      "3.884615384615384\n"
     ]
    }
   ],
   "source": [
    "x = 20.2\n",
    "y = 5.2\n",
    "\n",
    "print(x / y)"
   ]
  },
  {
   "cell_type": "code",
   "execution_count": 39,
   "id": "6104eec5-dc79-45f9-b1cf-530a19de5f88",
   "metadata": {},
   "outputs": [
    {
     "name": "stdout",
     "output_type": "stream",
     "text": [
      "Hello,Lily\n"
     ]
    }
   ],
   "source": [
    "a = 'Hello'\n",
    "b = 'Hello,'\n",
    "c = 'Lily'\n",
    "d = b + c\n",
    "print(d)"
   ]
  },
  {
   "cell_type": "code",
   "execution_count": null,
   "id": "fbe117e2-05e9-456f-a254-bb8210c69e4a",
   "metadata": {},
   "outputs": [],
   "source": []
  },
  {
   "cell_type": "code",
   "execution_count": null,
   "id": "b858b6f4-84dd-4bdb-849b-666ffa019455",
   "metadata": {},
   "outputs": [],
   "source": []
  }
 ],
 "metadata": {
  "kernelspec": {
   "display_name": "Python [conda env:base] *",
   "language": "python",
   "name": "conda-base-py"
  },
  "language_info": {
   "codemirror_mode": {
    "name": "ipython",
    "version": 3
   },
   "file_extension": ".py",
   "mimetype": "text/x-python",
   "name": "python",
   "nbconvert_exporter": "python",
   "pygments_lexer": "ipython3",
   "version": "3.12.7"
  }
 },
 "nbformat": 4,
 "nbformat_minor": 5
}
