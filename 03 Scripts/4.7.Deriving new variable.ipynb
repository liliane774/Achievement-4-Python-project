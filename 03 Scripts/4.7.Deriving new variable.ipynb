{
 "cells": [
  {
   "cell_type": "code",
   "execution_count": 134,
   "id": "7c41669f-7113-48af-9ae2-c66d6c437f17",
   "metadata": {},
   "outputs": [],
   "source": [
    "# Importing Libraries\n",
    "\n",
    "import pandas as pd\n",
    "import numpy as np\n",
    "import os"
   ]
  },
  {
   "cell_type": "code",
   "execution_count": 135,
   "id": "892b0667-4363-46d9-983b-01d23ced8293",
   "metadata": {},
   "outputs": [
    {
     "data": {
      "text/html": [
       "<div>\n",
       "<style scoped>\n",
       "    .dataframe tbody tr th:only-of-type {\n",
       "        vertical-align: middle;\n",
       "    }\n",
       "\n",
       "    .dataframe tbody tr th {\n",
       "        vertical-align: top;\n",
       "    }\n",
       "\n",
       "    .dataframe thead th {\n",
       "        text-align: right;\n",
       "    }\n",
       "</style>\n",
       "<table border=\"1\" class=\"dataframe\">\n",
       "  <thead>\n",
       "    <tr style=\"text-align: right;\">\n",
       "      <th></th>\n",
       "      <th>order_id</th>\n",
       "      <th>user_id</th>\n",
       "      <th>order_number</th>\n",
       "      <th>order_dow</th>\n",
       "      <th>order_hour_of_day</th>\n",
       "      <th>days_since_prior_order</th>\n",
       "      <th>product_id</th>\n",
       "      <th>add_to_cart_order</th>\n",
       "      <th>reordered</th>\n",
       "      <th>_merge</th>\n",
       "      <th>product_name</th>\n",
       "      <th>aisle_id</th>\n",
       "      <th>department_id</th>\n",
       "      <th>prices</th>\n",
       "    </tr>\n",
       "  </thead>\n",
       "  <tbody>\n",
       "    <tr>\n",
       "      <th>0</th>\n",
       "      <td>2539329</td>\n",
       "      <td>1</td>\n",
       "      <td>1</td>\n",
       "      <td>2</td>\n",
       "      <td>8</td>\n",
       "      <td>NaN</td>\n",
       "      <td>196</td>\n",
       "      <td>1</td>\n",
       "      <td>0</td>\n",
       "      <td>both</td>\n",
       "      <td>Soda</td>\n",
       "      <td>77.0</td>\n",
       "      <td>7.0</td>\n",
       "      <td>9.0</td>\n",
       "    </tr>\n",
       "    <tr>\n",
       "      <th>1</th>\n",
       "      <td>2539329</td>\n",
       "      <td>1</td>\n",
       "      <td>1</td>\n",
       "      <td>2</td>\n",
       "      <td>8</td>\n",
       "      <td>NaN</td>\n",
       "      <td>14084</td>\n",
       "      <td>2</td>\n",
       "      <td>0</td>\n",
       "      <td>both</td>\n",
       "      <td>Organic Unsweetened Vanilla Almond Milk</td>\n",
       "      <td>91.0</td>\n",
       "      <td>16.0</td>\n",
       "      <td>12.5</td>\n",
       "    </tr>\n",
       "    <tr>\n",
       "      <th>2</th>\n",
       "      <td>2539329</td>\n",
       "      <td>1</td>\n",
       "      <td>1</td>\n",
       "      <td>2</td>\n",
       "      <td>8</td>\n",
       "      <td>NaN</td>\n",
       "      <td>12427</td>\n",
       "      <td>3</td>\n",
       "      <td>0</td>\n",
       "      <td>both</td>\n",
       "      <td>Original Beef Jerky</td>\n",
       "      <td>23.0</td>\n",
       "      <td>19.0</td>\n",
       "      <td>4.4</td>\n",
       "    </tr>\n",
       "    <tr>\n",
       "      <th>3</th>\n",
       "      <td>2539329</td>\n",
       "      <td>1</td>\n",
       "      <td>1</td>\n",
       "      <td>2</td>\n",
       "      <td>8</td>\n",
       "      <td>NaN</td>\n",
       "      <td>26088</td>\n",
       "      <td>4</td>\n",
       "      <td>0</td>\n",
       "      <td>both</td>\n",
       "      <td>Aged White Cheddar Popcorn</td>\n",
       "      <td>23.0</td>\n",
       "      <td>19.0</td>\n",
       "      <td>4.7</td>\n",
       "    </tr>\n",
       "    <tr>\n",
       "      <th>4</th>\n",
       "      <td>2539329</td>\n",
       "      <td>1</td>\n",
       "      <td>1</td>\n",
       "      <td>2</td>\n",
       "      <td>8</td>\n",
       "      <td>NaN</td>\n",
       "      <td>26405</td>\n",
       "      <td>5</td>\n",
       "      <td>0</td>\n",
       "      <td>both</td>\n",
       "      <td>XL Pick-A-Size Paper Towel Rolls</td>\n",
       "      <td>54.0</td>\n",
       "      <td>17.0</td>\n",
       "      <td>1.0</td>\n",
       "    </tr>\n",
       "  </tbody>\n",
       "</table>\n",
       "</div>"
      ],
      "text/plain": [
       "   order_id  user_id  order_number  order_dow  order_hour_of_day  \\\n",
       "0   2539329        1             1          2                  8   \n",
       "1   2539329        1             1          2                  8   \n",
       "2   2539329        1             1          2                  8   \n",
       "3   2539329        1             1          2                  8   \n",
       "4   2539329        1             1          2                  8   \n",
       "\n",
       "   days_since_prior_order  product_id  add_to_cart_order  reordered _merge  \\\n",
       "0                     NaN         196                  1          0   both   \n",
       "1                     NaN       14084                  2          0   both   \n",
       "2                     NaN       12427                  3          0   both   \n",
       "3                     NaN       26088                  4          0   both   \n",
       "4                     NaN       26405                  5          0   both   \n",
       "\n",
       "                              product_name  aisle_id  department_id  prices  \n",
       "0                                     Soda      77.0            7.0     9.0  \n",
       "1  Organic Unsweetened Vanilla Almond Milk      91.0           16.0    12.5  \n",
       "2                      Original Beef Jerky      23.0           19.0     4.4  \n",
       "3               Aged White Cheddar Popcorn      23.0           19.0     4.7  \n",
       "4         XL Pick-A-Size Paper Towel Rolls      54.0           17.0     1.0  "
      ]
     },
     "execution_count": 135,
     "metadata": {},
     "output_type": "execute_result"
    }
   ],
   "source": [
    "# import ords_prods_merge dataframe\n",
    "\n",
    "df_path='/Users/ryumugil/Downloads/CF/02-12-2025 Instacart Basket Analysis'\n",
    "\n",
    "ords_prods_merge = pd.read_csv(os.path.join(df_path, '02 Data', 'Prepared Data','orders_products_merged.csv'))\n",
    "\n",
    "ords_prods_merge.head()"
   ]
  },
  {
   "cell_type": "code",
   "execution_count": 136,
   "id": "7623a7aa-adb4-4060-aa7a-d371eff46d45",
   "metadata": {},
   "outputs": [],
   "source": [
    "# Create a Subset\n",
    "\n",
    "df= ords_prods_merge[:1000000]"
   ]
  },
  {
   "cell_type": "code",
   "execution_count": 137,
   "id": "90fb8dc2-f3a3-4200-b923-bd73ca886cf6",
   "metadata": {},
   "outputs": [
    {
     "data": {
      "text/plain": [
       "(1000000, 14)"
      ]
     },
     "execution_count": 137,
     "metadata": {},
     "output_type": "execute_result"
    }
   ],
   "source": [
    "df.shape"
   ]
  },
  {
   "cell_type": "code",
   "execution_count": 138,
   "id": "c1ca5473-f725-4d61-a309-dc48448e30b6",
   "metadata": {},
   "outputs": [],
   "source": [
    "# Define a function\n",
    "\n",
    "ords_prods_merge.loc[ords_prods_merge['prices'] > 15, 'price_range_loc'] = 'High range product'"
   ]
  },
  {
   "cell_type": "code",
   "execution_count": 139,
   "id": "aef506d6-6960-4cc9-92a7-c7dc9e830583",
   "metadata": {},
   "outputs": [
    {
     "data": {
      "text/plain": [
       "99999.0"
      ]
     },
     "execution_count": 139,
     "metadata": {},
     "output_type": "execute_result"
    }
   ],
   "source": [
    "df['prices'].max()"
   ]
  },
  {
   "cell_type": "code",
   "execution_count": 140,
   "id": "92a0ea30-cd44-4fa7-abb5-58ba79771be6",
   "metadata": {},
   "outputs": [],
   "source": [
    "ords_prods_merge.loc[(ords_prods_merge['prices'] <= 15) & (ords_prods_merge['prices'] > 5), 'price_range_loc'] = 'Mid range product' "
   ]
  },
  {
   "cell_type": "code",
   "execution_count": 141,
   "id": "b3340628-62fd-4da2-960e-8080b2e142cc",
   "metadata": {},
   "outputs": [],
   "source": [
    "ords_prods_merge.loc[ords_prods_merge['prices'] <= 5, 'price_range_loc'] = 'Low range product'"
   ]
  },
  {
   "cell_type": "code",
   "execution_count": 142,
   "id": "58cfc093-c94c-47ab-87ef-e6f6daad84da",
   "metadata": {},
   "outputs": [
    {
     "data": {
      "text/plain": [
       "price_range_loc\n",
       "Mid range product     21861997\n",
       "Low range product     10126366\n",
       "High range product      417678\n",
       "NaN                      30200\n",
       "Name: count, dtype: int64"
      ]
     },
     "execution_count": 142,
     "metadata": {},
     "output_type": "execute_result"
    }
   ],
   "source": [
    "ords_prods_merge['price_range_loc'].value_counts(dropna = False)"
   ]
  },
  {
   "cell_type": "code",
   "execution_count": 143,
   "id": "5551322f-0231-4e4d-8f6f-47d7c9715efe",
   "metadata": {},
   "outputs": [
    {
     "name": "stdout",
     "output_type": "stream",
     "text": [
      "My age is 30\n"
     ]
    }
   ],
   "source": [
    "print(\"My age is 30\")"
   ]
  },
  {
   "cell_type": "code",
   "execution_count": 144,
   "id": "b49cd4bb-4e86-4d98-91cc-498ff6579e05",
   "metadata": {},
   "outputs": [
    {
     "name": "stdout",
     "output_type": "stream",
     "text": [
      "My age is 32\n"
     ]
    }
   ],
   "source": [
    "print(\"My age is 32\")"
   ]
  },
  {
   "cell_type": "code",
   "execution_count": 145,
   "id": "db5b46c8-d099-4eda-869b-85a52c5900e1",
   "metadata": {},
   "outputs": [
    {
     "name": "stdout",
     "output_type": "stream",
     "text": [
      "My age is 33\n"
     ]
    }
   ],
   "source": [
    "print(\"My age is 33\")"
   ]
  },
  {
   "cell_type": "code",
   "execution_count": 146,
   "id": "effbacb7-0c98-4993-9c87-e62148b330ca",
   "metadata": {},
   "outputs": [
    {
     "name": "stdout",
     "output_type": "stream",
     "text": [
      "My age is 30\n",
      "My age is 31\n",
      "My age is 32\n",
      "My age is 33\n",
      "My age is 34\n",
      "My age is 35\n",
      "My age is 36\n",
      "My age is 37\n",
      "My age is 38\n",
      "My age is 39\n",
      "My age is 40\n",
      "My age is 41\n",
      "My age is 42\n",
      "My age is 43\n",
      "My age is 44\n"
     ]
    }
   ],
   "source": [
    "for x in range (30,45):\n",
    "    print(\"My age is %d\" % (x))"
   ]
  },
  {
   "cell_type": "code",
   "execution_count": 147,
   "id": "36f18038-1b71-4900-81fc-b51f8afd9776",
   "metadata": {},
   "outputs": [
    {
     "data": {
      "text/plain": [
       "order_dow\n",
       "0    6210030\n",
       "1    5666177\n",
       "6    4500536\n",
       "2    4218024\n",
       "5    4209718\n",
       "3    3844342\n",
       "4    3787414\n",
       "Name: count, dtype: int64"
      ]
     },
     "execution_count": 147,
     "metadata": {},
     "output_type": "execute_result"
    }
   ],
   "source": [
    "ords_prods_merge['order_dow'].value_counts(dropna = False)"
   ]
  },
  {
   "cell_type": "code",
   "execution_count": 148,
   "id": "df35ed28-4227-4d66-80ce-5b4f6df9bf16",
   "metadata": {},
   "outputs": [
    {
     "ename": "TypeError",
     "evalue": "'list' object is not callable",
     "output_type": "error",
     "traceback": [
      "\u001b[0;31m---------------------------------------------------------------------------\u001b[0m",
      "\u001b[0;31mTypeError\u001b[0m                                 Traceback (most recent call last)",
      "Cell \u001b[0;32mIn[148], line 10\u001b[0m\n\u001b[1;32m      8\u001b[0m   \u001b[38;5;28;01melse\u001b[39;00m:\n\u001b[1;32m      9\u001b[0m     result\u001b[38;5;241m.\u001b[39mappend(\u001b[38;5;124m\"\u001b[39m\u001b[38;5;124mRegularly busy\u001b[39m\u001b[38;5;124m\"\u001b[39m)\n\u001b[0;32m---> 10\u001b[0m result()\n",
      "\u001b[0;31mTypeError\u001b[0m: 'list' object is not callable"
     ]
    }
   ],
   "source": [
    "result = []\n",
    "\n",
    "for value in ords_prods_merge[\"order_dow\"]:\n",
    "  if value == 0:\n",
    "    result.append(\"Busiest day\")\n",
    "  elif value == 4:\n",
    "    result.append(\"Least busy\")\n",
    "  else:\n",
    "    result.append(\"Regularly busy\")\n",
    "result()"
   ]
  }
 ],
 "metadata": {
  "kernelspec": {
   "display_name": "Python [conda env:base] *",
   "language": "python",
   "name": "conda-base-py"
  },
  "language_info": {
   "codemirror_mode": {
    "name": "ipython",
    "version": 3
   },
   "file_extension": ".py",
   "mimetype": "text/x-python",
   "name": "python",
   "nbconvert_exporter": "python",
   "pygments_lexer": "ipython3",
   "version": "3.12.7"
  }
 },
 "nbformat": 4,
 "nbformat_minor": 5
}
